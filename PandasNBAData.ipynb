{
 "cells": [
  {
   "cell_type": "code",
   "execution_count": 1,
   "metadata": {},
   "outputs": [
    {
     "ename": "AttributeError",
     "evalue": "'DataFrame' object has no attribute 'close'",
     "output_type": "error",
     "traceback": [
      "\u001b[1;31m---------------------------------------------------------------------------\u001b[0m",
      "\u001b[1;31mAttributeError\u001b[0m                            Traceback (most recent call last)",
      "\u001b[1;32m<ipython-input-1-9584dc2ed1b0>\u001b[0m in \u001b[0;36m<module>\u001b[1;34m\u001b[0m\n\u001b[0;32m     16\u001b[0m     \u001b[0mprint\u001b[0m\u001b[1;33m(\u001b[0m\u001b[1;34m\"can't find this file\"\u001b[0m\u001b[1;33m)\u001b[0m\u001b[1;33m\u001b[0m\u001b[1;33m\u001b[0m\u001b[0m\n\u001b[0;32m     17\u001b[0m \u001b[1;32mfinally\u001b[0m\u001b[1;33m:\u001b[0m\u001b[1;33m\u001b[0m\u001b[1;33m\u001b[0m\u001b[0m\n\u001b[1;32m---> 18\u001b[1;33m     \u001b[0mnbaStats\u001b[0m\u001b[1;33m.\u001b[0m\u001b[0mclose\u001b[0m\u001b[1;33m(\u001b[0m\u001b[1;33m)\u001b[0m\u001b[1;33m\u001b[0m\u001b[1;33m\u001b[0m\u001b[0m\n\u001b[0m",
      "\u001b[1;32m~\\anaconda3\\lib\\site-packages\\pandas\\core\\generic.py\u001b[0m in \u001b[0;36m__getattr__\u001b[1;34m(self, name)\u001b[0m\n\u001b[0;32m   5272\u001b[0m             \u001b[1;32mif\u001b[0m \u001b[0mself\u001b[0m\u001b[1;33m.\u001b[0m\u001b[0m_info_axis\u001b[0m\u001b[1;33m.\u001b[0m\u001b[0m_can_hold_identifiers_and_holds_name\u001b[0m\u001b[1;33m(\u001b[0m\u001b[0mname\u001b[0m\u001b[1;33m)\u001b[0m\u001b[1;33m:\u001b[0m\u001b[1;33m\u001b[0m\u001b[1;33m\u001b[0m\u001b[0m\n\u001b[0;32m   5273\u001b[0m                 \u001b[1;32mreturn\u001b[0m \u001b[0mself\u001b[0m\u001b[1;33m[\u001b[0m\u001b[0mname\u001b[0m\u001b[1;33m]\u001b[0m\u001b[1;33m\u001b[0m\u001b[1;33m\u001b[0m\u001b[0m\n\u001b[1;32m-> 5274\u001b[1;33m             \u001b[1;32mreturn\u001b[0m \u001b[0mobject\u001b[0m\u001b[1;33m.\u001b[0m\u001b[0m__getattribute__\u001b[0m\u001b[1;33m(\u001b[0m\u001b[0mself\u001b[0m\u001b[1;33m,\u001b[0m \u001b[0mname\u001b[0m\u001b[1;33m)\u001b[0m\u001b[1;33m\u001b[0m\u001b[1;33m\u001b[0m\u001b[0m\n\u001b[0m\u001b[0;32m   5275\u001b[0m \u001b[1;33m\u001b[0m\u001b[0m\n\u001b[0;32m   5276\u001b[0m     \u001b[1;32mdef\u001b[0m \u001b[0m__setattr__\u001b[0m\u001b[1;33m(\u001b[0m\u001b[0mself\u001b[0m\u001b[1;33m,\u001b[0m \u001b[0mname\u001b[0m\u001b[1;33m:\u001b[0m \u001b[0mstr\u001b[0m\u001b[1;33m,\u001b[0m \u001b[0mvalue\u001b[0m\u001b[1;33m)\u001b[0m \u001b[1;33m->\u001b[0m \u001b[1;32mNone\u001b[0m\u001b[1;33m:\u001b[0m\u001b[1;33m\u001b[0m\u001b[1;33m\u001b[0m\u001b[0m\n",
      "\u001b[1;31mAttributeError\u001b[0m: 'DataFrame' object has no attribute 'close'"
     ]
    }
   ],
   "source": [
    "import pandas as pd\n",
    "# nbaStats = pd.read_csv(\"C:/Users/jpkee/Desktop/PythonProjects/NBA 2018-19 Season.csv\")\n",
    "import os.path\n",
    "\n",
    "# try:\n",
    "#     f = open(\"filename.txt\")\n",
    "#     # Do something with the file\n",
    "# except IOError:\n",
    "#     print(\"File not accessible\")\n",
    "# finally:\n",
    "#     f.close()\n",
    "    \n",
    "try:\n",
    "    nbaStats = pd.read_csv(\"C:/Users/jpkee/Desktop/PythonProjects/NBA 2018-19 Season.csv\")\n",
    "except IOError:\n",
    "    print(\"can't find this file\")\n",
    "finally:\n",
    "    nbaStats.close()"
   ]
  },
  {
   "cell_type": "code",
   "execution_count": 2,
   "metadata": {},
   "outputs": [
    {
     "data": {
      "text/html": [
       "<div>\n",
       "<style scoped>\n",
       "    .dataframe tbody tr th:only-of-type {\n",
       "        vertical-align: middle;\n",
       "    }\n",
       "\n",
       "    .dataframe tbody tr th {\n",
       "        vertical-align: top;\n",
       "    }\n",
       "\n",
       "    .dataframe thead th {\n",
       "        text-align: right;\n",
       "    }\n",
       "</style>\n",
       "<table border=\"1\" class=\"dataframe\">\n",
       "  <thead>\n",
       "    <tr style=\"text-align: right;\">\n",
       "      <th></th>\n",
       "      <th>Conference</th>\n",
       "      <th>Division</th>\n",
       "      <th>Team</th>\n",
       "      <th>Player</th>\n",
       "      <th>Age</th>\n",
       "      <th>Games</th>\n",
       "      <th>Games Started</th>\n",
       "      <th>Minutes Played</th>\n",
       "      <th>Field Goals</th>\n",
       "      <th>Field Goal Attempts</th>\n",
       "      <th>...</th>\n",
       "      <th>Free Throw Percentage</th>\n",
       "      <th>Offensive Rebounds</th>\n",
       "      <th>Defensive Rebounds</th>\n",
       "      <th>Total Rebounds</th>\n",
       "      <th>Assists</th>\n",
       "      <th>Steals</th>\n",
       "      <th>Blocks</th>\n",
       "      <th>Turnovers</th>\n",
       "      <th>Personal Fouls</th>\n",
       "      <th>Points</th>\n",
       "    </tr>\n",
       "  </thead>\n",
       "  <tbody>\n",
       "    <tr>\n",
       "      <th>0</th>\n",
       "      <td>Eastern</td>\n",
       "      <td>Atlantic</td>\n",
       "      <td>Boston Celtics</td>\n",
       "      <td>Jayson Tatum</td>\n",
       "      <td>20</td>\n",
       "      <td>79</td>\n",
       "      <td>79</td>\n",
       "      <td>2455</td>\n",
       "      <td>466</td>\n",
       "      <td>1036</td>\n",
       "      <td>...</td>\n",
       "      <td>0.855</td>\n",
       "      <td>70</td>\n",
       "      <td>407</td>\n",
       "      <td>477</td>\n",
       "      <td>168</td>\n",
       "      <td>84</td>\n",
       "      <td>57</td>\n",
       "      <td>122</td>\n",
       "      <td>168</td>\n",
       "      <td>1243</td>\n",
       "    </tr>\n",
       "    <tr>\n",
       "      <th>1</th>\n",
       "      <td>Eastern</td>\n",
       "      <td>Atlantic</td>\n",
       "      <td>Boston Celtics</td>\n",
       "      <td>Kyrie Irving</td>\n",
       "      <td>26</td>\n",
       "      <td>67</td>\n",
       "      <td>67</td>\n",
       "      <td>2214</td>\n",
       "      <td>604</td>\n",
       "      <td>1241</td>\n",
       "      <td>...</td>\n",
       "      <td>0.873</td>\n",
       "      <td>71</td>\n",
       "      <td>264</td>\n",
       "      <td>335</td>\n",
       "      <td>464</td>\n",
       "      <td>103</td>\n",
       "      <td>34</td>\n",
       "      <td>172</td>\n",
       "      <td>167</td>\n",
       "      <td>1596</td>\n",
       "    </tr>\n",
       "    <tr>\n",
       "      <th>2</th>\n",
       "      <td>Eastern</td>\n",
       "      <td>Atlantic</td>\n",
       "      <td>Boston Celtics</td>\n",
       "      <td>Marcus Smart</td>\n",
       "      <td>24</td>\n",
       "      <td>80</td>\n",
       "      <td>60</td>\n",
       "      <td>2200</td>\n",
       "      <td>239</td>\n",
       "      <td>567</td>\n",
       "      <td>...</td>\n",
       "      <td>0.806</td>\n",
       "      <td>57</td>\n",
       "      <td>177</td>\n",
       "      <td>234</td>\n",
       "      <td>321</td>\n",
       "      <td>143</td>\n",
       "      <td>28</td>\n",
       "      <td>123</td>\n",
       "      <td>201</td>\n",
       "      <td>708</td>\n",
       "    </tr>\n",
       "  </tbody>\n",
       "</table>\n",
       "<p>3 rows × 30 columns</p>\n",
       "</div>"
      ],
      "text/plain": [
       "  Conference  Division            Team        Player  Age  Games  \\\n",
       "0    Eastern  Atlantic  Boston Celtics  Jayson Tatum   20     79   \n",
       "1    Eastern  Atlantic  Boston Celtics  Kyrie Irving   26     67   \n",
       "2    Eastern  Atlantic  Boston Celtics  Marcus Smart   24     80   \n",
       "\n",
       "   Games Started  Minutes Played  Field Goals  Field Goal Attempts  ...  \\\n",
       "0             79            2455          466                 1036  ...   \n",
       "1             67            2214          604                 1241  ...   \n",
       "2             60            2200          239                  567  ...   \n",
       "\n",
       "   Free Throw Percentage  Offensive Rebounds  Defensive Rebounds  \\\n",
       "0                  0.855                  70                 407   \n",
       "1                  0.873                  71                 264   \n",
       "2                  0.806                  57                 177   \n",
       "\n",
       "   Total Rebounds  Assists  Steals  Blocks  Turnovers  Personal Fouls  Points  \n",
       "0             477      168      84      57        122             168    1243  \n",
       "1             335      464     103      34        172             167    1596  \n",
       "2             234      321     143      28        123             201     708  \n",
       "\n",
       "[3 rows x 30 columns]"
      ]
     },
     "execution_count": 2,
     "metadata": {},
     "output_type": "execute_result"
    }
   ],
   "source": [
    "nbaStats.head(3)"
   ]
  },
  {
   "cell_type": "code",
   "execution_count": 3,
   "metadata": {},
   "outputs": [
    {
     "data": {
      "text/plain": [
       "0      20\n",
       "1      26\n",
       "2      24\n",
       "3      29\n",
       "4      32\n",
       "       ..\n",
       "617    32\n",
       "618    33\n",
       "619    23\n",
       "620    21\n",
       "621    21\n",
       "Name: Age, Length: 622, dtype: int64"
      ]
     },
     "execution_count": 3,
     "metadata": {},
     "output_type": "execute_result"
    }
   ],
   "source": [
    "# bracket notation\n",
    "nbaStats['Age']"
   ]
  },
  {
   "cell_type": "code",
   "execution_count": 3,
   "metadata": {},
   "outputs": [
    {
     "data": {
      "text/plain": [
       "0      20\n",
       "1      26\n",
       "2      24\n",
       "3      29\n",
       "4      32\n",
       "       ..\n",
       "617    32\n",
       "618    33\n",
       "619    23\n",
       "620    21\n",
       "621    21\n",
       "Name: Age, Length: 622, dtype: int64"
      ]
     },
     "execution_count": 3,
     "metadata": {},
     "output_type": "execute_result"
    }
   ],
   "source": [
    "# dot notation, don't use it!\n",
    "nbaStats.Age"
   ]
  },
  {
   "cell_type": "code",
   "execution_count": null,
   "metadata": {},
   "outputs": [],
   "source": []
  }
 ],
 "metadata": {
  "kernelspec": {
   "display_name": "Python 3",
   "language": "python",
   "name": "python3"
  },
  "language_info": {
   "codemirror_mode": {
    "name": "ipython",
    "version": 3
   },
   "file_extension": ".py",
   "mimetype": "text/x-python",
   "name": "python",
   "nbconvert_exporter": "python",
   "pygments_lexer": "ipython3",
   "version": "3.7.6"
  }
 },
 "nbformat": 4,
 "nbformat_minor": 4
}
