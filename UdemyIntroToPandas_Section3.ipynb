{
 "cells": [
  {
   "cell_type": "markdown",
   "metadata": {},
   "source": [
    "<!-- Generator: Adobe Illustrator 24.1.1, SVG Export Plug-In  -->\n",
    "<svg version=\"1.1\" xmlns=\"http://www.w3.org/2000/svg\" xmlns:xlink=\"http://www.w3.org/1999/xlink\" x=\"0px\" y=\"0px\"\n",
    "\t width=\"166.03px\" height=\"95.64px\" viewBox=\"0 0 166.03 95.64\" style=\"enable-background:new 0 0 166.03 95.64;\"\n",
    "\t xml:space=\"preserve\">\n",
    "<style type=\"text/css\">\n",
    "\t.st0{fill:#E21717;}\n",
    "</style>\n",
    "<defs>\n",
    "</defs>\n",
    "<rect x=\"95.87\" y=\"54.59\" class=\"st0\" width=\"42.74\" height=\"7.99\"/>\n",
    "<rect x=\"53.61\" y=\"38\" transform=\"matrix(0.7598 0.6502 -0.6502 0.7598 46.6686 -41.266)\" class=\"st0\" width=\"51.13\" height=\"9.05\"/>\n",
    "<path class=\"st0\" d=\"M64.14,29.74h-6.46c-0.38,0-0.68-0.3-0.68-0.68V15.21c0-0.38,0.3-0.68,0.68-0.68h6.46\n",
    "\tc0.38,0,0.68,0.3,0.68,0.68v13.85C64.82,29.44,64.51,29.74,64.14,29.74z\"/>\n",
    "<path class=\"st0\" d=\"M40.13,61.79L40.13,61.79c-1.57-0.85-2.16-2.82-1.3-4.39l17.15-31.61c0.85-1.57,2.82-2.16,4.39-1.3l0,0\n",
    "\tc1.57,0.85,2.16,2.82,1.3,4.39L44.52,60.49C43.67,62.06,41.7,62.64,40.13,61.79z\"/>\n",
    "<path class=\"st0\" d=\"M119.25,7.96h-13.64c-1.83,0-3.32-1.49-3.32-3.32V4.51c0-1.83,1.49-3.32,3.32-3.32h13.64\n",
    "\tc1.83,0,3.32,1.49,3.32,3.32v0.13C122.57,6.47,121.09,7.96,119.25,7.96z\"/>\n",
    "<rect x=\"112.83\" y=\"7.45\" class=\"st0\" width=\"6.06\" height=\"8.17\"/>\n",
    "<path class=\"st0\" d=\"M60.98,8.23L45.87,6.62c-1.82-0.19-3.14-1.83-2.95-3.65v0c0.19-1.82,1.83-3.14,3.65-2.95l15.11,1.61\n",
    "\tc1.82,0.19,3.14,1.83,2.95,3.65v0C64.44,7.11,62.8,8.43,60.98,8.23z\"/>\n",
    "<rect x=\"58.35\" y=\"5.28\" class=\"st0\" width=\"4.98\" height=\"10.21\"/>\n",
    "<path class=\"st0\" d=\"M42.84,89.85H42.2c-2.08,0-3.77-1.69-3.77-3.77V38.28c0-2.08,1.69-3.77,3.77-3.77h0.64\n",
    "\tc2.08,0,3.77,1.69,3.77,3.77v47.81C46.6,88.17,44.92,89.85,42.84,89.85z\"/>\n",
    "<path class=\"st0\" d=\"M117.3,27.04l-14.41,26.56c-0.87,1.61-2.89,2.21-4.5,1.33l-0.11-0.06c-1.61-0.87-2.21-2.89-1.33-4.5\n",
    "\tl14.41-26.56c0.87-1.61,2.89-2.21,4.5-1.33l0.11,0.06C117.58,23.41,118.17,25.43,117.3,27.04z\"/>\n",
    "<path class=\"st0\" d=\"M3.15,82.23c0.01-16.65,0.02-33.3,0.03-49.95c0-0.04,0-0.08,0.01-0.13c0.19-1.37,0.55-2.99,1.26-4.74\n",
    "\tc1.83-4.54,4.93-7.32,6.72-8.68c0.98-0.76,2.28-1.62,3.91-2.38c1.28-0.6,2.48-0.99,3.5-1.26c0.06-0.02,0.11-0.02,0.16-0.03\n",
    "\tc2.72-0.44,7.24-0.55,10.42-0.21c0.19,0.02,1.04,0.11,2.12,0.34c0.83,0.17,1.22,0.3,1.42,0.37c0.39,0.13,0.79,0.31,1.45,0.65\n",
    "\tc0.36,0.19,0.87,0.47,3.4,2.18c0.25,0.17,0.64,0.44,1.11,0.85c0.38,0.34,0.64,0.62,0.77,0.77c1.94,2.16,2.91,3.23,3.91,4.68\n",
    "\tc1.46,2.11,2.1,3.58,2.26,3.96c0.68,1.62,1.02,2.43,0.72,3.02c-0.84,1.66-5.89,1.93-7.83-0.34c-1.17-1.37-0.43-2.77-2.21-5.02\n",
    "\tc-0.8-1.01-1.63-1.76-1.87-1.96c-0.93-0.76-1.75-1.19-2.32-1.48c-0.66-0.34-1.67-0.79-2.89-1.11c-2.61-0.68-4.8-0.42-5.59-0.31\n",
    "\tc-7.5,0.99-11.49,7.58-11.81,8.52c-0.17,0.48-0.27,2.1-0.26,2.17c0,0,0.01,0.03,0.01,0.08c0,0.02,0,0.04,0,0.07\n",
    "\tc0.01,16.84,0.02,33.68,0.03,50.52c0.03,3.54-2.05,6.11-3.85,6.23C5.75,89.18,2.96,86.43,3.15,82.23z\"/>\n",
    "<path class=\"st0\" d=\"M120.32,15.6H62.78c-1.25,0-2.26,1.01-2.26,2.26v3.4c0,1.25,1.01,2.26,2.26,2.26h57.53\n",
    "\tc1.25,0,2.26-1.01,2.26-2.26v-3.4C122.57,16.61,121.56,15.6,120.32,15.6z\"/>\n",
    "<rect x=\"123.4\" y=\"16.45\" transform=\"matrix(0.8888 -0.4583 0.4583 0.8888 -3.5602 62.7317)\" class=\"st0\" width=\"8.14\" height=\"44.5\"/>\n",
    "<circle class=\"st0\" cx=\"137.86\" cy=\"58.42\" r=\"4.23\"/>\n",
    "<path class=\"st0\" d=\"M43.57,29.68\"/>\n",
    "<path class=\"st0\" d=\"M102.89,95.64\"/>\n",
    "<path class=\"st0\" d=\"M137.86,32.04c-15.56,0-28.17,13.17-28.17,29.41c0,16.24,12.61,29.41,28.17,29.41s28.17-13.17,28.17-29.41\n",
    "\tC166.03,45.21,153.42,32.04,137.86,32.04z M137.86,82.03c-10.89,0-19.72-9.22-19.72-20.58c0-11.37,8.83-20.58,19.72-20.58\n",
    "\tc10.89,0,19.72,9.22,19.72,20.58C157.58,72.81,148.75,82.03,137.86,82.03z\"/>\n",
    "<path class=\"st0\" d=\"M41.28,29.88c-15.56,0-28.17,13.17-28.17,29.41c0,16.24,12.61,29.41,28.17,29.41s28.17-13.17,28.17-29.41\n",
    "\tC69.45,43.04,56.84,29.88,41.28,29.88z M41.28,79.87c-10.89,0-19.72-9.22-19.72-20.58c0-11.37,8.83-20.58,19.72-20.58\n",
    "\tC52.17,38.7,61,47.92,61,59.29C61,70.65,52.17,79.87,41.28,79.87z\"/>\n",
    "<path class=\"st0\" d=\"M7.6,88.77\"/>\n",
    "<path class=\"st0\" d=\"M53.79,20.91\"/>\n",
    "<path class=\"st0\" d=\"M0,17.25\"/>\n",
    "<path class=\"st0\" d=\"M16.09,33.13\"/>\n",
    "<polygon class=\"st0\" points=\"95.06,61.94 95.66,62.59 96.07,62.59 96.47,61.94 \"/>\n",
    "</svg>\n"
   ]
  },
  {
   "cell_type": "markdown",
   "metadata": {},
   "source": [
    "**Selecting Subsets of Data from DataFrames with just the Brackets**\n",
    "\n",
    "*Master Data Analysis with Python - Intro to Pandas*\n",
    "\n",
    "Section 3 - \n",
    "https://www.udemy.com/course/master-data-analysis-with-python-intro-to-pandas/learn/lecture/13948302?start=0#overview\n"
   ]
  },
  {
   "cell_type": "code",
   "execution_count": 1,
   "metadata": {},
   "outputs": [],
   "source": [
    "# See http://localhost:8888/notebooks/Desktop/PythonProjects/FreeUdemyCoursePandas.ipynb for earlier stuff\n",
    "        "
   ]
  },
  {
   "cell_type": "code",
   "execution_count": 2,
   "metadata": {},
   "outputs": [],
   "source": [
    "# Selecting Subsets of Data w Just the Brackets\n",
    "# -- 3 indexers - [], [iloc], [loc]\n",
    "# Primary purpose of JUST the brackets is to select a column\n",
    "\n",
    "# so you can select only rows, only columns or cells\n",
    "\n",
    "# indexing is aka subsetting"
   ]
  },
  {
   "cell_type": "code",
   "execution_count": 3,
   "metadata": {},
   "outputs": [],
   "source": [
    "# integer location = iloc"
   ]
  },
  {
   "cell_type": "code",
   "execution_count": 4,
   "metadata": {},
   "outputs": [],
   "source": [
    "import pandas as pd\n",
    "sampleData = pd.read_csv('C:/Users/jpkee/Desktop/PythonProjects/Master Data Analysis with Python - Intro to pandas/data/sample_data.csv', index_col=0)"
   ]
  },
  {
   "cell_type": "code",
   "execution_count": 5,
   "metadata": {},
   "outputs": [],
   "source": [
    "sampleData.head()"
   ]
  },
  {
   "cell_type": "code",
   "execution_count": 6,
   "metadata": {},
   "outputs": [
    {
     "data": {
      "text/plain": [
       "Jane         30\n",
       "Niko          2\n",
       "Aaron        12\n",
       "Penelope      4\n",
       "Dean         32\n",
       "Christina    33\n",
       "Cornelia     69\n",
       "Name: age, dtype: int64"
      ]
     },
     "execution_count": 6,
     "metadata": {},
     "output_type": "execute_result"
    }
   ],
   "source": [
    "# grabbing just the age column\n",
    "sampleData['age']"
   ]
  },
  {
   "cell_type": "code",
   "execution_count": 7,
   "metadata": {},
   "outputs": [
    {
     "data": {
      "text/html": [
       "<div>\n",
       "<style scoped>\n",
       "    .dataframe tbody tr th:only-of-type {\n",
       "        vertical-align: middle;\n",
       "    }\n",
       "\n",
       "    .dataframe tbody tr th {\n",
       "        vertical-align: top;\n",
       "    }\n",
       "\n",
       "    .dataframe thead th {\n",
       "        text-align: right;\n",
       "    }\n",
       "</style>\n",
       "<table border=\"1\" class=\"dataframe\">\n",
       "  <thead>\n",
       "    <tr style=\"text-align: right;\">\n",
       "      <th></th>\n",
       "      <th>age</th>\n",
       "      <th>score</th>\n",
       "    </tr>\n",
       "  </thead>\n",
       "  <tbody>\n",
       "    <tr>\n",
       "      <th>Jane</th>\n",
       "      <td>30</td>\n",
       "      <td>4.6</td>\n",
       "    </tr>\n",
       "    <tr>\n",
       "      <th>Niko</th>\n",
       "      <td>2</td>\n",
       "      <td>8.3</td>\n",
       "    </tr>\n",
       "    <tr>\n",
       "      <th>Aaron</th>\n",
       "      <td>12</td>\n",
       "      <td>9.0</td>\n",
       "    </tr>\n",
       "    <tr>\n",
       "      <th>Penelope</th>\n",
       "      <td>4</td>\n",
       "      <td>3.3</td>\n",
       "    </tr>\n",
       "    <tr>\n",
       "      <th>Dean</th>\n",
       "      <td>32</td>\n",
       "      <td>1.8</td>\n",
       "    </tr>\n",
       "    <tr>\n",
       "      <th>Christina</th>\n",
       "      <td>33</td>\n",
       "      <td>9.5</td>\n",
       "    </tr>\n",
       "    <tr>\n",
       "      <th>Cornelia</th>\n",
       "      <td>69</td>\n",
       "      <td>2.2</td>\n",
       "    </tr>\n",
       "  </tbody>\n",
       "</table>\n",
       "</div>"
      ],
      "text/plain": [
       "           age  score\n",
       "Jane        30    4.6\n",
       "Niko         2    8.3\n",
       "Aaron       12    9.0\n",
       "Penelope     4    3.3\n",
       "Dean        32    1.8\n",
       "Christina   33    9.5\n",
       "Cornelia    69    2.2"
      ]
     },
     "execution_count": 7,
     "metadata": {},
     "output_type": "execute_result"
    }
   ],
   "source": [
    "# now grab multiple columns, by creating list, aka an 'inner' list, aka 2 sets of brackets\n",
    "sampleData[['age', 'score']]"
   ]
  },
  {
   "cell_type": "code",
   "execution_count": 8,
   "metadata": {},
   "outputs": [],
   "source": [
    "# you can also just make the list first, and column order doesn't matter\n",
    "myNeededColumns = ['age', 'score', 'height']"
   ]
  },
  {
   "cell_type": "code",
   "execution_count": 17,
   "metadata": {},
   "outputs": [
    {
     "data": {
      "text/html": [
       "<div>\n",
       "<style scoped>\n",
       "    .dataframe tbody tr th:only-of-type {\n",
       "        vertical-align: middle;\n",
       "    }\n",
       "\n",
       "    .dataframe tbody tr th {\n",
       "        vertical-align: top;\n",
       "    }\n",
       "\n",
       "    .dataframe thead th {\n",
       "        text-align: right;\n",
       "    }\n",
       "</style>\n",
       "<table border=\"1\" class=\"dataframe\">\n",
       "  <thead>\n",
       "    <tr style=\"text-align: right;\">\n",
       "      <th></th>\n",
       "      <th>age</th>\n",
       "      <th>score</th>\n",
       "      <th>height</th>\n",
       "    </tr>\n",
       "  </thead>\n",
       "  <tbody>\n",
       "    <tr>\n",
       "      <th>Jane</th>\n",
       "      <td>30</td>\n",
       "      <td>4.6</td>\n",
       "      <td>165</td>\n",
       "    </tr>\n",
       "    <tr>\n",
       "      <th>Niko</th>\n",
       "      <td>2</td>\n",
       "      <td>8.3</td>\n",
       "      <td>70</td>\n",
       "    </tr>\n",
       "    <tr>\n",
       "      <th>Aaron</th>\n",
       "      <td>12</td>\n",
       "      <td>9.0</td>\n",
       "      <td>120</td>\n",
       "    </tr>\n",
       "    <tr>\n",
       "      <th>Penelope</th>\n",
       "      <td>4</td>\n",
       "      <td>3.3</td>\n",
       "      <td>80</td>\n",
       "    </tr>\n",
       "    <tr>\n",
       "      <th>Dean</th>\n",
       "      <td>32</td>\n",
       "      <td>1.8</td>\n",
       "      <td>180</td>\n",
       "    </tr>\n",
       "    <tr>\n",
       "      <th>Christina</th>\n",
       "      <td>33</td>\n",
       "      <td>9.5</td>\n",
       "      <td>172</td>\n",
       "    </tr>\n",
       "    <tr>\n",
       "      <th>Cornelia</th>\n",
       "      <td>69</td>\n",
       "      <td>2.2</td>\n",
       "      <td>150</td>\n",
       "    </tr>\n",
       "  </tbody>\n",
       "</table>\n",
       "</div>"
      ],
      "text/plain": [
       "           age  score  height\n",
       "Jane        30    4.6     165\n",
       "Niko         2    8.3      70\n",
       "Aaron       12    9.0     120\n",
       "Penelope     4    3.3      80\n",
       "Dean        32    1.8     180\n",
       "Christina   33    9.5     172\n",
       "Cornelia    69    2.2     150"
      ]
     },
     "execution_count": 17,
     "metadata": {},
     "output_type": "execute_result"
    }
   ],
   "source": [
    "#then stick pull the list\n",
    "sampleData[myNeededColumns]"
   ]
  },
  {
   "cell_type": "code",
   "execution_count": 18,
   "metadata": {},
   "outputs": [
    {
     "data": {
      "text/html": [
       "<div>\n",
       "<style scoped>\n",
       "    .dataframe tbody tr th:only-of-type {\n",
       "        vertical-align: middle;\n",
       "    }\n",
       "\n",
       "    .dataframe tbody tr th {\n",
       "        vertical-align: top;\n",
       "    }\n",
       "\n",
       "    .dataframe thead th {\n",
       "        text-align: right;\n",
       "    }\n",
       "</style>\n",
       "<table border=\"1\" class=\"dataframe\">\n",
       "  <thead>\n",
       "    <tr style=\"text-align: right;\">\n",
       "      <th></th>\n",
       "      <th>year</th>\n",
       "      <th>color</th>\n",
       "      <th>content_rating</th>\n",
       "      <th>duration</th>\n",
       "      <th>director_name</th>\n",
       "      <th>director_fb</th>\n",
       "      <th>actor1</th>\n",
       "      <th>actor1_fb</th>\n",
       "      <th>actor2</th>\n",
       "      <th>actor2_fb</th>\n",
       "      <th>...</th>\n",
       "      <th>actor3_fb</th>\n",
       "      <th>gross</th>\n",
       "      <th>genres</th>\n",
       "      <th>num_reviews</th>\n",
       "      <th>num_voted_users</th>\n",
       "      <th>plot_keywords</th>\n",
       "      <th>language</th>\n",
       "      <th>country</th>\n",
       "      <th>budget</th>\n",
       "      <th>imdb_score</th>\n",
       "    </tr>\n",
       "    <tr>\n",
       "      <th>title</th>\n",
       "      <th></th>\n",
       "      <th></th>\n",
       "      <th></th>\n",
       "      <th></th>\n",
       "      <th></th>\n",
       "      <th></th>\n",
       "      <th></th>\n",
       "      <th></th>\n",
       "      <th></th>\n",
       "      <th></th>\n",
       "      <th></th>\n",
       "      <th></th>\n",
       "      <th></th>\n",
       "      <th></th>\n",
       "      <th></th>\n",
       "      <th></th>\n",
       "      <th></th>\n",
       "      <th></th>\n",
       "      <th></th>\n",
       "      <th></th>\n",
       "      <th></th>\n",
       "    </tr>\n",
       "  </thead>\n",
       "  <tbody>\n",
       "    <tr>\n",
       "      <th>Avatar</th>\n",
       "      <td>2009.0</td>\n",
       "      <td>Color</td>\n",
       "      <td>PG-13</td>\n",
       "      <td>178.0</td>\n",
       "      <td>James Cameron</td>\n",
       "      <td>0.0</td>\n",
       "      <td>CCH Pounder</td>\n",
       "      <td>1000.0</td>\n",
       "      <td>Joel David Moore</td>\n",
       "      <td>936.0</td>\n",
       "      <td>...</td>\n",
       "      <td>855.0</td>\n",
       "      <td>760505847.0</td>\n",
       "      <td>Action|Adventure|Fantasy|Sci-Fi</td>\n",
       "      <td>723.0</td>\n",
       "      <td>886204</td>\n",
       "      <td>avatar|future|marine|native|paraplegic</td>\n",
       "      <td>English</td>\n",
       "      <td>USA</td>\n",
       "      <td>237000000.0</td>\n",
       "      <td>7.9</td>\n",
       "    </tr>\n",
       "  </tbody>\n",
       "</table>\n",
       "<p>1 rows × 21 columns</p>\n",
       "</div>"
      ],
      "text/plain": [
       "          year  color content_rating  duration  director_name  director_fb  \\\n",
       "title                                                                        \n",
       "Avatar  2009.0  Color          PG-13     178.0  James Cameron          0.0   \n",
       "\n",
       "             actor1  actor1_fb            actor2  actor2_fb  ... actor3_fb  \\\n",
       "title                                                        ...             \n",
       "Avatar  CCH Pounder     1000.0  Joel David Moore      936.0  ...     855.0   \n",
       "\n",
       "              gross                           genres num_reviews  \\\n",
       "title                                                              \n",
       "Avatar  760505847.0  Action|Adventure|Fantasy|Sci-Fi       723.0   \n",
       "\n",
       "        num_voted_users                           plot_keywords language  \\\n",
       "title                                                                      \n",
       "Avatar           886204  avatar|future|marine|native|paraplegic  English   \n",
       "\n",
       "       country       budget  imdb_score  \n",
       "title                                    \n",
       "Avatar     USA  237000000.0         7.9  \n",
       "\n",
       "[1 rows x 21 columns]"
      ]
     },
     "execution_count": 18,
     "metadata": {},
     "output_type": "execute_result"
    }
   ],
   "source": [
    "movies = pd.read_csv('C:/Users/jpkee/Desktop/PythonProjects/Master Data Analysis with Python - Intro to pandas/data/movie.csv', index_col='title')\n",
    "movies.head(1)"
   ]
  },
  {
   "cell_type": "code",
   "execution_count": 19,
   "metadata": {},
   "outputs": [
    {
     "data": {
      "text/plain": [
       "title\n",
       "Avatar    James Cameron\n",
       "Name: director_name, dtype: object"
      ]
     },
     "execution_count": 19,
     "metadata": {},
     "output_type": "execute_result"
    }
   ],
   "source": [
    "movies['director_name'].head(1)"
   ]
  },
  {
   "cell_type": "code",
   "execution_count": 12,
   "metadata": {},
   "outputs": [],
   "source": [
    "dLikes = ['director_name', 'director_fb']"
   ]
  },
  {
   "cell_type": "code",
   "execution_count": 20,
   "metadata": {},
   "outputs": [
    {
     "data": {
      "text/html": [
       "<div>\n",
       "<style scoped>\n",
       "    .dataframe tbody tr th:only-of-type {\n",
       "        vertical-align: middle;\n",
       "    }\n",
       "\n",
       "    .dataframe tbody tr th {\n",
       "        vertical-align: top;\n",
       "    }\n",
       "\n",
       "    .dataframe thead th {\n",
       "        text-align: right;\n",
       "    }\n",
       "</style>\n",
       "<table border=\"1\" class=\"dataframe\">\n",
       "  <thead>\n",
       "    <tr style=\"text-align: right;\">\n",
       "      <th></th>\n",
       "      <th>director_name</th>\n",
       "      <th>director_fb</th>\n",
       "    </tr>\n",
       "    <tr>\n",
       "      <th>title</th>\n",
       "      <th></th>\n",
       "      <th></th>\n",
       "    </tr>\n",
       "  </thead>\n",
       "  <tbody>\n",
       "    <tr>\n",
       "      <th>Avatar</th>\n",
       "      <td>James Cameron</td>\n",
       "      <td>0.0</td>\n",
       "    </tr>\n",
       "    <tr>\n",
       "      <th>Pirates of the Caribbean: At World's End</th>\n",
       "      <td>Gore Verbinski</td>\n",
       "      <td>563.0</td>\n",
       "    </tr>\n",
       "    <tr>\n",
       "      <th>Spectre</th>\n",
       "      <td>Sam Mendes</td>\n",
       "      <td>0.0</td>\n",
       "    </tr>\n",
       "    <tr>\n",
       "      <th>The Dark Knight Rises</th>\n",
       "      <td>Christopher Nolan</td>\n",
       "      <td>22000.0</td>\n",
       "    </tr>\n",
       "    <tr>\n",
       "      <th>Star Wars: Episode VII - The Force Awakens</th>\n",
       "      <td>Doug Walker</td>\n",
       "      <td>131.0</td>\n",
       "    </tr>\n",
       "  </tbody>\n",
       "</table>\n",
       "</div>"
      ],
      "text/plain": [
       "                                                director_name  director_fb\n",
       "title                                                                     \n",
       "Avatar                                          James Cameron          0.0\n",
       "Pirates of the Caribbean: At World's End       Gore Verbinski        563.0\n",
       "Spectre                                            Sam Mendes          0.0\n",
       "The Dark Knight Rises                       Christopher Nolan      22000.0\n",
       "Star Wars: Episode VII - The Force Awakens        Doug Walker        131.0"
      ]
     },
     "execution_count": 20,
     "metadata": {},
     "output_type": "execute_result"
    }
   ],
   "source": [
    "movies[dLikes].head()"
   ]
  },
  {
   "cell_type": "code",
   "execution_count": 14,
   "metadata": {},
   "outputs": [
    {
     "data": {
      "text/html": [
       "<div>\n",
       "<style scoped>\n",
       "    .dataframe tbody tr th:only-of-type {\n",
       "        vertical-align: middle;\n",
       "    }\n",
       "\n",
       "    .dataframe tbody tr th {\n",
       "        vertical-align: top;\n",
       "    }\n",
       "\n",
       "    .dataframe thead th {\n",
       "        text-align: right;\n",
       "    }\n",
       "</style>\n",
       "<table border=\"1\" class=\"dataframe\">\n",
       "  <thead>\n",
       "    <tr style=\"text-align: right;\">\n",
       "      <th></th>\n",
       "      <th>country</th>\n",
       "    </tr>\n",
       "    <tr>\n",
       "      <th>title</th>\n",
       "      <th></th>\n",
       "    </tr>\n",
       "  </thead>\n",
       "  <tbody>\n",
       "    <tr>\n",
       "      <th>Avatar</th>\n",
       "      <td>USA</td>\n",
       "    </tr>\n",
       "  </tbody>\n",
       "</table>\n",
       "</div>"
      ],
      "text/plain": [
       "       country\n",
       "title         \n",
       "Avatar     USA"
      ]
     },
     "execution_count": 14,
     "metadata": {},
     "output_type": "execute_result"
    }
   ],
   "source": [
    "movies[['country']].head(1)"
   ]
  },
  {
   "cell_type": "code",
   "execution_count": 23,
   "metadata": {},
   "outputs": [
    {
     "data": {
      "text/html": [
       "<div>\n",
       "<style scoped>\n",
       "    .dataframe tbody tr th:only-of-type {\n",
       "        vertical-align: middle;\n",
       "    }\n",
       "\n",
       "    .dataframe tbody tr th {\n",
       "        vertical-align: top;\n",
       "    }\n",
       "\n",
       "    .dataframe thead th {\n",
       "        text-align: right;\n",
       "    }\n",
       "</style>\n",
       "<table border=\"1\" class=\"dataframe\">\n",
       "  <thead>\n",
       "    <tr style=\"text-align: right;\">\n",
       "      <th></th>\n",
       "      <th>director_fb</th>\n",
       "    </tr>\n",
       "    <tr>\n",
       "      <th>title</th>\n",
       "      <th></th>\n",
       "    </tr>\n",
       "  </thead>\n",
       "  <tbody>\n",
       "    <tr>\n",
       "      <th>Avatar</th>\n",
       "      <td>0.0</td>\n",
       "    </tr>\n",
       "    <tr>\n",
       "      <th>Pirates of the Caribbean: At World's End</th>\n",
       "      <td>563.0</td>\n",
       "    </tr>\n",
       "    <tr>\n",
       "      <th>Spectre</th>\n",
       "      <td>0.0</td>\n",
       "    </tr>\n",
       "    <tr>\n",
       "      <th>The Dark Knight Rises</th>\n",
       "      <td>22000.0</td>\n",
       "    </tr>\n",
       "    <tr>\n",
       "      <th>Star Wars: Episode VII - The Force Awakens</th>\n",
       "      <td>131.0</td>\n",
       "    </tr>\n",
       "    <tr>\n",
       "      <th>...</th>\n",
       "      <td>...</td>\n",
       "    </tr>\n",
       "    <tr>\n",
       "      <th>Signed Sealed Delivered</th>\n",
       "      <td>2.0</td>\n",
       "    </tr>\n",
       "    <tr>\n",
       "      <th>The Following</th>\n",
       "      <td>NaN</td>\n",
       "    </tr>\n",
       "    <tr>\n",
       "      <th>A Plague So Pleasant</th>\n",
       "      <td>0.0</td>\n",
       "    </tr>\n",
       "    <tr>\n",
       "      <th>Shanghai Calling</th>\n",
       "      <td>0.0</td>\n",
       "    </tr>\n",
       "    <tr>\n",
       "      <th>My Date with Drew</th>\n",
       "      <td>16.0</td>\n",
       "    </tr>\n",
       "  </tbody>\n",
       "</table>\n",
       "<p>4916 rows × 1 columns</p>\n",
       "</div>"
      ],
      "text/plain": [
       "                                            director_fb\n",
       "title                                                  \n",
       "Avatar                                              0.0\n",
       "Pirates of the Caribbean: At World's End          563.0\n",
       "Spectre                                             0.0\n",
       "The Dark Knight Rises                           22000.0\n",
       "Star Wars: Episode VII - The Force Awakens        131.0\n",
       "...                                                 ...\n",
       "Signed Sealed Delivered                             2.0\n",
       "The Following                                       NaN\n",
       "A Plague So Pleasant                                0.0\n",
       "Shanghai Calling                                    0.0\n",
       "My Date with Drew                                  16.0\n",
       "\n",
       "[4916 rows x 1 columns]"
      ]
     },
     "execution_count": 23,
     "metadata": {},
     "output_type": "execute_result"
    }
   ],
   "source": [
    "# don't forget you can use 'ls' etc to navigate here:\n",
    "movies[['director_fb']]"
   ]
  },
  {
   "cell_type": "code",
   "execution_count": 16,
   "metadata": {},
   "outputs": [],
   "source": [
    "# movies[['title', 'director_fb', 'plot_keywords']]\n"
   ]
  },
  {
   "cell_type": "code",
   "execution_count": null,
   "metadata": {},
   "outputs": [],
   "source": []
  },
  {
   "cell_type": "code",
   "execution_count": null,
   "metadata": {},
   "outputs": [],
   "source": []
  }
 ],
 "metadata": {
  "kernelspec": {
   "display_name": "Python 3",
   "language": "python",
   "name": "python3"
  },
  "language_info": {
   "codemirror_mode": {
    "name": "ipython",
    "version": 3
   },
   "file_extension": ".py",
   "mimetype": "text/x-python",
   "name": "python",
   "nbconvert_exporter": "python",
   "pygments_lexer": "ipython3",
   "version": "3.7.6"
  }
 },
 "nbformat": 4,
 "nbformat_minor": 4
}
