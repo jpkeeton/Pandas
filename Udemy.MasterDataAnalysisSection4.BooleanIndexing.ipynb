{
 "cells": [
  {
   "cell_type": "markdown",
   "metadata": {},
   "source": [
    "**Boolean Indexing**\n",
    "\n",
    "*Master Data Analysis with Python - Intro to Pandas*\n",
    "Section 4 - \n",
    "https://www.udemy.com/course/master-data-analysis-with-python-intro-to-pandas/learn/lecture/13950298#overview\n"
   ]
  }
 ],
 "metadata": {
  "kernelspec": {
   "display_name": "Python 3",
   "language": "python",
   "name": "python3"
  },
  "language_info": {
   "codemirror_mode": {
    "name": "ipython",
    "version": 3
   },
   "file_extension": ".py",
   "mimetype": "text/x-python",
   "name": "python",
   "nbconvert_exporter": "python",
   "pygments_lexer": "ipython3",
   "version": "3.7.6"
  }
 },
 "nbformat": 4,
 "nbformat_minor": 4
}
