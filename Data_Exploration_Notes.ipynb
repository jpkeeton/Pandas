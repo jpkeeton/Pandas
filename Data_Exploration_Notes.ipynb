{
 "cells": [
  {
   "cell_type": "markdown",
   "metadata": {},
   "source": [
    "https://towardsdatascience.com/data-wrangling-with-pandas-5b0be151df4e\n",
    "\n",
    "* Data exploration\n",
    "    * columns, unique values in a column, describe, duplicates\n",
    "* Dealing with missing values\n",
    "    * quantifying missing values per column, filling & dropping missing values\n",
    "* Reshaping data\n",
    "    * one hot encoding, pivot tables, joins, grouping and aggregating\n",
    "* Filtering data\n",
    "* Other \n",
    "    * Making descriptive columns, element-wise conditional operations\n",
    "\n"
   ]
  },
  {
   "cell_type": "code",
   "execution_count": null,
   "metadata": {},
   "outputs": [],
   "source": []
  }
 ],
 "metadata": {
  "kernelspec": {
   "display_name": "Python 3",
   "language": "python",
   "name": "python3"
  },
  "language_info": {
   "codemirror_mode": {
    "name": "ipython",
    "version": 3
   },
   "file_extension": ".py",
   "mimetype": "text/x-python",
   "name": "python",
   "nbconvert_exporter": "python",
   "pygments_lexer": "ipython3",
   "version": "3.7.6"
  }
 },
 "nbformat": 4,
 "nbformat_minor": 4
}
