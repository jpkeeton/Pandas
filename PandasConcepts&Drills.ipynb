{
 "cells": [
  {
   "cell_type": "markdown",
   "metadata": {},
   "source": [
    "**Pandas Concepts and Drills**\n",
    "* notes are from these places:\n",
    "    * https://www.udemy.com/course/master-data-analysis-with-python-intro-to-pandas/learn/lecture/13981248#overview\n",
    "* On 5/9 Ted posted this:\n",
    "\n",
    "Ted Petrou\n",
    "@TedPetrou\n",
    "·\n",
    "30m\n",
    "They are both installable now, but not quite ready\n",
    "* pip install dataframe_image\n",
    "* pip install jupyter_to_medium"
   ]
  },
  {
   "cell_type": "markdown",
   "metadata": {},
   "source": [
    "**Lists:**\n",
    "* General purpose data structure\n",
    "* not built for scientific computing\n",
    "* ordered\n",
    "* mutable\n",
    "* dupes OK\n",
    "* indexed\n",
    "* Can store any object of any type\n",
    "* Not optimized for tabular data analysis.\n",
    "* What lacks, is a data structure that contains homogeneous data types for fast access and numerical computation. \n",
    "* uses [ ] \n",
    "* This data structure, usually referred to as an ‘array’ in most languages is provided by the NumPy third-part library\n",
    "    * though since 3.3 Python does have the array, import array is fine for basics, \"If all you're doing is creating arrays of simple data types and doing I/O, the array module will do just fine.\" per https://stackoverflow.com/questions/111983/python-array-versus-numpy-array\n",
    "\n",
    "Pandas is built on NumPy (numerical Python)\n",
    "* NumPy's primary data structure is an n-dimensional array, more powerful and performant than a Python list\n"
   ]
  },
  {
   "cell_type": "markdown",
   "metadata": {},
   "source": [
    "**Dataframe**:  2-dimensional data structure, has rows & columns\n",
    "\n",
    "**Series**: 1-dimensional data structure, has single column, 1-dimensional array"
   ]
  },
  {
   "cell_type": "markdown",
   "metadata": {},
   "source": [
    "**What can I do with Pandas?**\n",
    " \n",
    "* read\n",
    "* filter\n",
    "* aggregate\n",
    "* dis-aggregate\n",
    "* tidying/cleaning\n",
    "* joining\n",
    "* time series analysis\n",
    "* viz!\n"
   ]
  },
  {
   "cell_type": "markdown",
   "metadata": {},
   "source": [
    "Head method is very handy!\n",
    "- gives first 5 rows of dataframe or series\n",
    "- you can also jsut give a number ex .head(3), I think would be an example\n",
    "- will be 60 rows w/o the head method by default"
   ]
  },
  {
   "cell_type": "code",
   "execution_count": 1,
   "metadata": {},
   "outputs": [],
   "source": [
    "# read_csv function\n",
    "# - very commonly used\n",
    "# - can read"
   ]
  },
  {
   "cell_type": "markdown",
   "metadata": {},
   "source": [
    "Keep going from here:\n",
    "* https://www.udemy.com/course/master-data-analysis-with-python-intro-to-pandas/learn/lecture/13938192#content\n",
    "\n",
    "**DataFrame and Series**\n",
    "    * DataFrame - 2-dimensional data structure, looks like a table\n",
    "    * Series - 1-dimensional, just a single column"
   ]
  },
  {
   "cell_type": "code",
   "execution_count": 9,
   "metadata": {},
   "outputs": [],
   "source": [
    "import pandas as pd\n",
    "\n",
    "bikes = pd.read_csv('C:/Users/jpkee/Desktop/PythonProjects/Master Data Analysis with Python - Intro to pandas/data/bikes.csv')"
   ]
  },
  {
   "cell_type": "code",
   "execution_count": 10,
   "metadata": {},
   "outputs": [
    {
     "data": {
      "text/html": [
       "<div>\n",
       "<style scoped>\n",
       "    .dataframe tbody tr th:only-of-type {\n",
       "        vertical-align: middle;\n",
       "    }\n",
       "\n",
       "    .dataframe tbody tr th {\n",
       "        vertical-align: top;\n",
       "    }\n",
       "\n",
       "    .dataframe thead th {\n",
       "        text-align: right;\n",
       "    }\n",
       "</style>\n",
       "<table border=\"1\" class=\"dataframe\">\n",
       "  <thead>\n",
       "    <tr style=\"text-align: right;\">\n",
       "      <th></th>\n",
       "      <th>trip_id</th>\n",
       "      <th>usertype</th>\n",
       "      <th>gender</th>\n",
       "      <th>starttime</th>\n",
       "      <th>stoptime</th>\n",
       "      <th>tripduration</th>\n",
       "      <th>from_station_name</th>\n",
       "      <th>latitude_start</th>\n",
       "      <th>longitude_start</th>\n",
       "      <th>dpcapacity_start</th>\n",
       "      <th>to_station_name</th>\n",
       "      <th>latitude_end</th>\n",
       "      <th>longitude_end</th>\n",
       "      <th>dpcapacity_end</th>\n",
       "      <th>temperature</th>\n",
       "      <th>visibility</th>\n",
       "      <th>wind_speed</th>\n",
       "      <th>precipitation</th>\n",
       "      <th>events</th>\n",
       "    </tr>\n",
       "  </thead>\n",
       "  <tbody>\n",
       "    <tr>\n",
       "      <th>50084</th>\n",
       "      <td>17534938</td>\n",
       "      <td>Subscriber</td>\n",
       "      <td>Male</td>\n",
       "      <td>2017-12-30 13:07:00</td>\n",
       "      <td>2017-12-30 13:34:00</td>\n",
       "      <td>1625</td>\n",
       "      <td>State St &amp; Pearson St</td>\n",
       "      <td>41.897448</td>\n",
       "      <td>-87.628722</td>\n",
       "      <td>27.0</td>\n",
       "      <td>Clark St &amp; Elm St</td>\n",
       "      <td>41.902973</td>\n",
       "      <td>-87.631280</td>\n",
       "      <td>27.0</td>\n",
       "      <td>5.0</td>\n",
       "      <td>10.0</td>\n",
       "      <td>16.1</td>\n",
       "      <td>-9999.0</td>\n",
       "      <td>partlycloudy</td>\n",
       "    </tr>\n",
       "    <tr>\n",
       "      <th>50085</th>\n",
       "      <td>17534969</td>\n",
       "      <td>Subscriber</td>\n",
       "      <td>Male</td>\n",
       "      <td>2017-12-30 13:34:00</td>\n",
       "      <td>2017-12-30 13:44:00</td>\n",
       "      <td>585</td>\n",
       "      <td>Halsted St &amp; 35th St (*)</td>\n",
       "      <td>41.830661</td>\n",
       "      <td>-87.647172</td>\n",
       "      <td>16.0</td>\n",
       "      <td>Union Ave &amp; Root St</td>\n",
       "      <td>41.819102</td>\n",
       "      <td>-87.643278</td>\n",
       "      <td>11.0</td>\n",
       "      <td>5.0</td>\n",
       "      <td>10.0</td>\n",
       "      <td>16.1</td>\n",
       "      <td>-9999.0</td>\n",
       "      <td>partlycloudy</td>\n",
       "    </tr>\n",
       "    <tr>\n",
       "      <th>50086</th>\n",
       "      <td>17534972</td>\n",
       "      <td>Subscriber</td>\n",
       "      <td>Male</td>\n",
       "      <td>2017-12-30 13:34:00</td>\n",
       "      <td>2017-12-30 13:48:00</td>\n",
       "      <td>824</td>\n",
       "      <td>Kingsbury St &amp; Kinzie St</td>\n",
       "      <td>41.889177</td>\n",
       "      <td>-87.638506</td>\n",
       "      <td>31.0</td>\n",
       "      <td>Halsted St &amp; Blackhawk St (*)</td>\n",
       "      <td>41.908537</td>\n",
       "      <td>-87.648627</td>\n",
       "      <td>20.0</td>\n",
       "      <td>5.0</td>\n",
       "      <td>10.0</td>\n",
       "      <td>16.1</td>\n",
       "      <td>-9999.0</td>\n",
       "      <td>partlycloudy</td>\n",
       "    </tr>\n",
       "    <tr>\n",
       "      <th>50087</th>\n",
       "      <td>17535645</td>\n",
       "      <td>Subscriber</td>\n",
       "      <td>Female</td>\n",
       "      <td>2017-12-31 09:30:00</td>\n",
       "      <td>2017-12-31 09:33:00</td>\n",
       "      <td>178</td>\n",
       "      <td>Clinton St &amp; Lake St</td>\n",
       "      <td>41.885637</td>\n",
       "      <td>-87.641823</td>\n",
       "      <td>23.0</td>\n",
       "      <td>Kingsbury St &amp; Kinzie St</td>\n",
       "      <td>41.889177</td>\n",
       "      <td>-87.638506</td>\n",
       "      <td>31.0</td>\n",
       "      <td>7.0</td>\n",
       "      <td>10.0</td>\n",
       "      <td>11.5</td>\n",
       "      <td>-9999.0</td>\n",
       "      <td>partlycloudy</td>\n",
       "    </tr>\n",
       "    <tr>\n",
       "      <th>50088</th>\n",
       "      <td>17536246</td>\n",
       "      <td>Subscriber</td>\n",
       "      <td>Male</td>\n",
       "      <td>2017-12-31 15:22:00</td>\n",
       "      <td>2017-12-31 15:26:00</td>\n",
       "      <td>214</td>\n",
       "      <td>Clarendon Ave &amp; Leland Ave</td>\n",
       "      <td>41.967968</td>\n",
       "      <td>-87.650001</td>\n",
       "      <td>15.0</td>\n",
       "      <td>Clifton Ave &amp; Lawrence Ave</td>\n",
       "      <td>41.968812</td>\n",
       "      <td>-87.657659</td>\n",
       "      <td>15.0</td>\n",
       "      <td>10.9</td>\n",
       "      <td>10.0</td>\n",
       "      <td>15.0</td>\n",
       "      <td>-9999.0</td>\n",
       "      <td>partlycloudy</td>\n",
       "    </tr>\n",
       "  </tbody>\n",
       "</table>\n",
       "</div>"
      ],
      "text/plain": [
       "        trip_id    usertype  gender            starttime             stoptime  \\\n",
       "50084  17534938  Subscriber    Male  2017-12-30 13:07:00  2017-12-30 13:34:00   \n",
       "50085  17534969  Subscriber    Male  2017-12-30 13:34:00  2017-12-30 13:44:00   \n",
       "50086  17534972  Subscriber    Male  2017-12-30 13:34:00  2017-12-30 13:48:00   \n",
       "50087  17535645  Subscriber  Female  2017-12-31 09:30:00  2017-12-31 09:33:00   \n",
       "50088  17536246  Subscriber    Male  2017-12-31 15:22:00  2017-12-31 15:26:00   \n",
       "\n",
       "       tripduration           from_station_name  latitude_start  \\\n",
       "50084          1625       State St & Pearson St       41.897448   \n",
       "50085           585    Halsted St & 35th St (*)       41.830661   \n",
       "50086           824    Kingsbury St & Kinzie St       41.889177   \n",
       "50087           178        Clinton St & Lake St       41.885637   \n",
       "50088           214  Clarendon Ave & Leland Ave       41.967968   \n",
       "\n",
       "       longitude_start  dpcapacity_start                to_station_name  \\\n",
       "50084       -87.628722              27.0              Clark St & Elm St   \n",
       "50085       -87.647172              16.0            Union Ave & Root St   \n",
       "50086       -87.638506              31.0  Halsted St & Blackhawk St (*)   \n",
       "50087       -87.641823              23.0       Kingsbury St & Kinzie St   \n",
       "50088       -87.650001              15.0     Clifton Ave & Lawrence Ave   \n",
       "\n",
       "       latitude_end  longitude_end  dpcapacity_end  temperature  visibility  \\\n",
       "50084     41.902973     -87.631280            27.0          5.0        10.0   \n",
       "50085     41.819102     -87.643278            11.0          5.0        10.0   \n",
       "50086     41.908537     -87.648627            20.0          5.0        10.0   \n",
       "50087     41.889177     -87.638506            31.0          7.0        10.0   \n",
       "50088     41.968812     -87.657659            15.0         10.9        10.0   \n",
       "\n",
       "       wind_speed  precipitation        events  \n",
       "50084        16.1        -9999.0  partlycloudy  \n",
       "50085        16.1        -9999.0  partlycloudy  \n",
       "50086        16.1        -9999.0  partlycloudy  \n",
       "50087        11.5        -9999.0  partlycloudy  \n",
       "50088        15.0        -9999.0  partlycloudy  "
      ]
     },
     "execution_count": 10,
     "metadata": {},
     "output_type": "execute_result"
    }
   ],
   "source": [
    "# calling bikes will create a DataFrame\n",
    "# 60 rows and 20 columns is default\n",
    "\n",
    "# use the head function to just get a bit\n",
    "# again just use the shift/tab to show the documentation\n",
    "bikes.head(4)\n",
    "\n",
    "# and you can use head\n",
    "bikes.tail()\n",
    "\n"
   ]
  },
  {
   "cell_type": "markdown",
   "metadata": {},
   "source": [
    "Columns, Index and Data are important concepts!"
   ]
  },
  {
   "cell_type": "markdown",
   "metadata": {},
   "source": [
    "Index is really just the row\n",
    "\n",
    "Axis number, 0 and 1\n",
    "\n",
    "horizontal is 1\n",
    "\n",
    "vertical is 0\n",
    "\n"
   ]
  },
  {
   "cell_type": "code",
   "execution_count": 11,
   "metadata": {},
   "outputs": [
    {
     "data": {
      "text/plain": [
       "pandas.core.frame.DataFrame"
      ]
     },
     "execution_count": 11,
     "metadata": {},
     "output_type": "execute_result"
    }
   ],
   "source": [
    "# to verify that, in this case, bikes IS a dataframe, check it\n",
    "type(bikes)\n",
    "\n",
    "# and this is showing the data types of all the elements, right?\n",
    "# https://pandas.pydata.org/pandas-docs/stable/reference/api/pandas.DataFrame.dtypes.html\n",
    "# bikes.dtypes\n",
    "        # dtypes is an *attribute*\n",
    "# this is the fully qualified name\n",
    "# package.subpackage.module(python file).type name\n",
    "# pandas.core.frame.DataFrame"
   ]
  },
  {
   "cell_type": "code",
   "execution_count": 16,
   "metadata": {},
   "outputs": [
    {
     "data": {
      "text/plain": [
       "0     993\n",
       "1     623\n",
       "2    1040\n",
       "3     667\n",
       "4     130\n",
       "Name: tripduration, dtype: int64"
      ]
     },
     "execution_count": 16,
     "metadata": {},
     "output_type": "execute_result"
    }
   ],
   "source": [
    "# select a single column, a SERIES\n",
    "# only the index and the data called will actually result\n",
    "# and the series metadata will display at the bottom, 'Name: tripduration, dtype: int64'\n",
    "\n",
    "# bikes['gender']\n",
    "\n",
    "td = bikes['tripduration']\n",
    "td.head()"
   ]
  },
  {
   "cell_type": "markdown",
   "metadata": {},
   "source": [
    "**Exercises!**\n",
    "\n",
    "https://www.udemy.com/course/master-data-analysis-with-python-intro-to-pandas/learn/lecture/13981576#overview"
   ]
  },
  {
   "cell_type": "code",
   "execution_count": 17,
   "metadata": {},
   "outputs": [],
   "source": [
    "# select the events column and weather\n",
    "# lost something here.. :/"
   ]
  },
  {
   "cell_type": "code",
   "execution_count": 18,
   "metadata": {},
   "outputs": [
    {
     "ename": "NameError",
     "evalue": "name 'weather' is not defined",
     "output_type": "error",
     "traceback": [
      "\u001b[1;31m---------------------------------------------------------------------------\u001b[0m",
      "\u001b[1;31mNameError\u001b[0m                                 Traceback (most recent call last)",
      "\u001b[1;32m<ipython-input-18-9a70d0e01c21>\u001b[0m in \u001b[0;36m<module>\u001b[1;34m\u001b[0m\n\u001b[0;32m      1\u001b[0m \u001b[1;31m# what type of object is 'events'\u001b[0m\u001b[1;33m\u001b[0m\u001b[1;33m\u001b[0m\u001b[1;33m\u001b[0m\u001b[0m\n\u001b[1;32m----> 2\u001b[1;33m \u001b[0mtype\u001b[0m\u001b[1;33m(\u001b[0m\u001b[0mweather\u001b[0m\u001b[1;33m)\u001b[0m\u001b[1;33m\u001b[0m\u001b[1;33m\u001b[0m\u001b[0m\n\u001b[0m",
      "\u001b[1;31mNameError\u001b[0m: name 'weather' is not defined"
     ]
    }
   ],
   "source": [
    "# what type of object is 'events'\n",
    "type(weather)"
   ]
  },
  {
   "cell_type": "code",
   "execution_count": 8,
   "metadata": {},
   "outputs": [],
   "source": [
    "bikesLast2 = bikes.tail(2)\n"
   ]
  },
  {
   "cell_type": "code",
   "execution_count": 9,
   "metadata": {},
   "outputs": [
    {
     "data": {
      "text/html": [
       "<div>\n",
       "<style scoped>\n",
       "    .dataframe tbody tr th:only-of-type {\n",
       "        vertical-align: middle;\n",
       "    }\n",
       "\n",
       "    .dataframe tbody tr th {\n",
       "        vertical-align: top;\n",
       "    }\n",
       "\n",
       "    .dataframe thead th {\n",
       "        text-align: right;\n",
       "    }\n",
       "</style>\n",
       "<table border=\"1\" class=\"dataframe\">\n",
       "  <thead>\n",
       "    <tr style=\"text-align: right;\">\n",
       "      <th></th>\n",
       "      <th>trip_id</th>\n",
       "      <th>usertype</th>\n",
       "      <th>gender</th>\n",
       "      <th>starttime</th>\n",
       "      <th>stoptime</th>\n",
       "      <th>tripduration</th>\n",
       "      <th>from_station_name</th>\n",
       "      <th>latitude_start</th>\n",
       "      <th>longitude_start</th>\n",
       "      <th>dpcapacity_start</th>\n",
       "      <th>to_station_name</th>\n",
       "      <th>latitude_end</th>\n",
       "      <th>longitude_end</th>\n",
       "      <th>dpcapacity_end</th>\n",
       "      <th>temperature</th>\n",
       "      <th>visibility</th>\n",
       "      <th>wind_speed</th>\n",
       "      <th>precipitation</th>\n",
       "      <th>events</th>\n",
       "    </tr>\n",
       "  </thead>\n",
       "  <tbody>\n",
       "    <tr>\n",
       "      <th>50087</th>\n",
       "      <td>17535645</td>\n",
       "      <td>Subscriber</td>\n",
       "      <td>Female</td>\n",
       "      <td>2017-12-31 09:30:00</td>\n",
       "      <td>2017-12-31 09:33:00</td>\n",
       "      <td>178</td>\n",
       "      <td>Clinton St &amp; Lake St</td>\n",
       "      <td>41.885637</td>\n",
       "      <td>-87.641823</td>\n",
       "      <td>23.0</td>\n",
       "      <td>Kingsbury St &amp; Kinzie St</td>\n",
       "      <td>41.889177</td>\n",
       "      <td>-87.638506</td>\n",
       "      <td>31.0</td>\n",
       "      <td>7.0</td>\n",
       "      <td>10.0</td>\n",
       "      <td>11.5</td>\n",
       "      <td>-9999.0</td>\n",
       "      <td>partlycloudy</td>\n",
       "    </tr>\n",
       "    <tr>\n",
       "      <th>50088</th>\n",
       "      <td>17536246</td>\n",
       "      <td>Subscriber</td>\n",
       "      <td>Male</td>\n",
       "      <td>2017-12-31 15:22:00</td>\n",
       "      <td>2017-12-31 15:26:00</td>\n",
       "      <td>214</td>\n",
       "      <td>Clarendon Ave &amp; Leland Ave</td>\n",
       "      <td>41.967968</td>\n",
       "      <td>-87.650001</td>\n",
       "      <td>15.0</td>\n",
       "      <td>Clifton Ave &amp; Lawrence Ave</td>\n",
       "      <td>41.968812</td>\n",
       "      <td>-87.657659</td>\n",
       "      <td>15.0</td>\n",
       "      <td>10.9</td>\n",
       "      <td>10.0</td>\n",
       "      <td>15.0</td>\n",
       "      <td>-9999.0</td>\n",
       "      <td>partlycloudy</td>\n",
       "    </tr>\n",
       "  </tbody>\n",
       "</table>\n",
       "</div>"
      ],
      "text/plain": [
       "        trip_id    usertype  gender            starttime             stoptime  \\\n",
       "50087  17535645  Subscriber  Female  2017-12-31 09:30:00  2017-12-31 09:33:00   \n",
       "50088  17536246  Subscriber    Male  2017-12-31 15:22:00  2017-12-31 15:26:00   \n",
       "\n",
       "       tripduration           from_station_name  latitude_start  \\\n",
       "50087           178        Clinton St & Lake St       41.885637   \n",
       "50088           214  Clarendon Ave & Leland Ave       41.967968   \n",
       "\n",
       "       longitude_start  dpcapacity_start             to_station_name  \\\n",
       "50087       -87.641823              23.0    Kingsbury St & Kinzie St   \n",
       "50088       -87.650001              15.0  Clifton Ave & Lawrence Ave   \n",
       "\n",
       "       latitude_end  longitude_end  dpcapacity_end  temperature  visibility  \\\n",
       "50087     41.889177     -87.638506            31.0          7.0        10.0   \n",
       "50088     41.968812     -87.657659            15.0         10.9        10.0   \n",
       "\n",
       "       wind_speed  precipitation        events  \n",
       "50087        11.5        -9999.0  partlycloudy  \n",
       "50088        15.0        -9999.0  partlycloudy  "
      ]
     },
     "execution_count": 9,
     "metadata": {},
     "output_type": "execute_result"
    }
   ],
   "source": [
    "bikesLast2"
   ]
  },
  {
   "cell_type": "code",
   "execution_count": 10,
   "metadata": {},
   "outputs": [
    {
     "data": {
      "text/plain": [
       "pandas.core.frame.DataFrame"
      ]
     },
     "execution_count": 10,
     "metadata": {},
     "output_type": "execute_result"
    }
   ],
   "source": [
    "type(bikesLast2)"
   ]
  },
  {
   "cell_type": "markdown",
   "metadata": {},
   "source": [
    "**Data Types and Missing Values**\n",
    "* https://www.udemy.com/course/master-data-analysis-with-python-intro-to-pandas/learn/lecture/13938202#overview\n",
    "\n",
    "\n",
    "* Most common:\n",
    "    * boolean\n",
    "    * integer\n",
    "    * float\n",
    "    * object(mainly strings)\n",
    "    * datetime(a specific moment in time)\n",
    "    \n",
    "* Knowing the data type helps you learn what exactly can be done with it\n",
    "* Every value in a column will have the same datatype\n",
    "* dtypes will give you a series with the LABEL (NOT an index) and the datatype "
   ]
  },
  {
   "cell_type": "markdown",
   "metadata": {},
   "source": [
    "**Missing Values**\n",
    "\n",
    "    * NaN for floats, None, Nat (for datetime)\n",
    "        * 3 different representations depending on data type\n",
    "        * NaN stands of Not a Number\n",
    "    * Missing value for integer\n",
    "        * now NaN as of Pandas 0.24\n",
    "    * boolean and integer\n",
    "        * have NO missing value\n",
    "        \n",
    "Also, Pandas relies on NumPy to pull in the data types\n",
    "    \n",
    "        \n",
    "        "
   ]
  },
  {
   "cell_type": "code",
   "execution_count": 7,
   "metadata": {},
   "outputs": [
    {
     "ename": "NameError",
     "evalue": "name 'pd' is not defined",
     "output_type": "error",
     "traceback": [
      "\u001b[1;31m---------------------------------------------------------------------------\u001b[0m",
      "\u001b[1;31mNameError\u001b[0m                                 Traceback (most recent call last)",
      "\u001b[1;32m<ipython-input-7-4de061d0e836>\u001b[0m in \u001b[0;36m<module>\u001b[1;34m\u001b[0m\n\u001b[0;32m      1\u001b[0m \u001b[1;31m# use the parse_dates\u001b[0m\u001b[1;33m\u001b[0m\u001b[1;33m\u001b[0m\u001b[1;33m\u001b[0m\u001b[0m\n\u001b[0;32m      2\u001b[0m \u001b[1;31m# See here: https://pandas.pydata.org/pandas-docs/stable/reference/api/pandas.read_csv.html\u001b[0m\u001b[1;33m\u001b[0m\u001b[1;33m\u001b[0m\u001b[1;33m\u001b[0m\u001b[0m\n\u001b[1;32m----> 3\u001b[1;33m \u001b[0mbikes\u001b[0m \u001b[1;33m=\u001b[0m \u001b[0mpd\u001b[0m\u001b[1;33m.\u001b[0m\u001b[0mread_csv\u001b[0m\u001b[1;33m(\u001b[0m\u001b[1;34m'C:/Users/jpkee/Desktop/PythonProjects/Master Data Analysis with Python - Intro to pandas/data/bikes.csv'\u001b[0m\u001b[1;33m,\u001b[0m \u001b[0mparse_dates\u001b[0m\u001b[1;33m=\u001b[0m\u001b[1;33m[\u001b[0m\u001b[1;34m'starttime'\u001b[0m\u001b[1;33m,\u001b[0m \u001b[1;34m'stoptime'\u001b[0m\u001b[1;33m]\u001b[0m\u001b[1;33m)\u001b[0m\u001b[1;33m\u001b[0m\u001b[1;33m\u001b[0m\u001b[0m\n\u001b[0m",
      "\u001b[1;31mNameError\u001b[0m: name 'pd' is not defined"
     ]
    }
   ],
   "source": [
    "# use the parse_dates \n",
    "# See here: https://pandas.pydata.org/pandas-docs/stable/reference/api/pandas.read_csv.html\n",
    "bikes = pd.read_csv('C:/Users/jpkee/Desktop/PythonProjects/Master Data Analysis with Python - Intro to pandas/data/bikes.csv', parse_dates=['starttime', 'stoptime'])"
   ]
  },
  {
   "cell_type": "code",
   "execution_count": 8,
   "metadata": {},
   "outputs": [
    {
     "ename": "NameError",
     "evalue": "name 'bikes' is not defined",
     "output_type": "error",
     "traceback": [
      "\u001b[1;31m---------------------------------------------------------------------------\u001b[0m",
      "\u001b[1;31mNameError\u001b[0m                                 Traceback (most recent call last)",
      "\u001b[1;32m<ipython-input-8-606d27ad7385>\u001b[0m in \u001b[0;36m<module>\u001b[1;34m\u001b[0m\n\u001b[1;32m----> 1\u001b[1;33m \u001b[0mbikes\u001b[0m\u001b[1;33m.\u001b[0m\u001b[0mhead\u001b[0m\u001b[1;33m(\u001b[0m\u001b[1;36m1\u001b[0m\u001b[1;33m)\u001b[0m\u001b[1;33m\u001b[0m\u001b[1;33m\u001b[0m\u001b[0m\n\u001b[0m",
      "\u001b[1;31mNameError\u001b[0m: name 'bikes' is not defined"
     ]
    }
   ],
   "source": [
    "bikes.head(1)"
   ]
  },
  {
   "cell_type": "markdown",
   "metadata": {},
   "source": [
    "**Get more metadata:**\n",
    "\n",
    "**shape** - rows and columsn\n",
    "\n",
    "**size** - rows times columns, gets the total number of values \n",
    " \n",
    "**len** - get the number of rows\n",
    "\n",
    "**info** - similar to dtypes, just printed to the screen\n"
   ]
  },
  {
   "cell_type": "code",
   "execution_count": 13,
   "metadata": {},
   "outputs": [
    {
     "data": {
      "text/plain": [
       "50089"
      ]
     },
     "execution_count": 13,
     "metadata": {},
     "output_type": "execute_result"
    }
   ],
   "source": [
    "len(bikes)"
   ]
  },
  {
   "cell_type": "code",
   "execution_count": 14,
   "metadata": {},
   "outputs": [
    {
     "name": "stdout",
     "output_type": "stream",
     "text": [
      "<class 'pandas.core.frame.DataFrame'>\n",
      "RangeIndex: 50089 entries, 0 to 50088\n",
      "Data columns (total 19 columns):\n",
      " #   Column             Non-Null Count  Dtype         \n",
      "---  ------             --------------  -----         \n",
      " 0   trip_id            50089 non-null  int64         \n",
      " 1   usertype           50089 non-null  object        \n",
      " 2   gender             50089 non-null  object        \n",
      " 3   starttime          50089 non-null  datetime64[ns]\n",
      " 4   stoptime           50089 non-null  datetime64[ns]\n",
      " 5   tripduration       50089 non-null  int64         \n",
      " 6   from_station_name  50089 non-null  object        \n",
      " 7   latitude_start     50083 non-null  float64       \n",
      " 8   longitude_start    50083 non-null  float64       \n",
      " 9   dpcapacity_start   50083 non-null  float64       \n",
      " 10  to_station_name    50089 non-null  object        \n",
      " 11  latitude_end       50077 non-null  float64       \n",
      " 12  longitude_end      50077 non-null  float64       \n",
      " 13  dpcapacity_end     50077 non-null  float64       \n",
      " 14  temperature        50089 non-null  float64       \n",
      " 15  visibility         50089 non-null  float64       \n",
      " 16  wind_speed         50089 non-null  float64       \n",
      " 17  precipitation      50089 non-null  float64       \n",
      " 18  events             50089 non-null  object        \n",
      "dtypes: datetime64[ns](2), float64(10), int64(2), object(5)\n",
      "memory usage: 7.3+ MB\n"
     ]
    }
   ],
   "source": [
    "bikes.info()\n",
    "# and if you need to print, you'd say\n",
    "# print(bikes.info())"
   ]
  },
  {
   "cell_type": "code",
   "execution_count": 15,
   "metadata": {},
   "outputs": [
    {
     "data": {
      "text/plain": [
       "<bound method DataFrame.info of         trip_id    usertype  gender           starttime            stoptime  \\\n",
       "0          7147  Subscriber    Male 2013-06-28 19:01:00 2013-06-28 19:17:00   \n",
       "1          7524  Subscriber    Male 2013-06-28 22:53:00 2013-06-28 23:03:00   \n",
       "2         10927  Subscriber    Male 2013-06-30 14:43:00 2013-06-30 15:01:00   \n",
       "3         12907  Subscriber    Male 2013-07-01 10:05:00 2013-07-01 10:16:00   \n",
       "4         13168  Subscriber    Male 2013-07-01 11:16:00 2013-07-01 11:18:00   \n",
       "...         ...         ...     ...                 ...                 ...   \n",
       "50084  17534938  Subscriber    Male 2017-12-30 13:07:00 2017-12-30 13:34:00   \n",
       "50085  17534969  Subscriber    Male 2017-12-30 13:34:00 2017-12-30 13:44:00   \n",
       "50086  17534972  Subscriber    Male 2017-12-30 13:34:00 2017-12-30 13:48:00   \n",
       "50087  17535645  Subscriber  Female 2017-12-31 09:30:00 2017-12-31 09:33:00   \n",
       "50088  17536246  Subscriber    Male 2017-12-31 15:22:00 2017-12-31 15:26:00   \n",
       "\n",
       "       tripduration             from_station_name  latitude_start  \\\n",
       "0               993     Lake Shore Dr & Monroe St       41.881050   \n",
       "1               623  Clinton St & Washington Blvd       41.883380   \n",
       "2              1040  Sheffield Ave & Kingsbury St       41.909592   \n",
       "3               667       Carpenter St & Huron St       41.894556   \n",
       "4               130        Damen Ave & Pierce Ave       41.909396   \n",
       "...             ...                           ...             ...   \n",
       "50084          1625         State St & Pearson St       41.897448   \n",
       "50085           585      Halsted St & 35th St (*)       41.830661   \n",
       "50086           824      Kingsbury St & Kinzie St       41.889177   \n",
       "50087           178          Clinton St & Lake St       41.885637   \n",
       "50088           214    Clarendon Ave & Leland Ave       41.967968   \n",
       "\n",
       "       longitude_start  dpcapacity_start                to_station_name  \\\n",
       "0           -87.616970              11.0          Michigan Ave & Oak St   \n",
       "1           -87.641170              31.0           Wells St & Walton St   \n",
       "2           -87.653497              15.0        Dearborn St & Monroe St   \n",
       "3           -87.653449              19.0         Clark St & Randolph St   \n",
       "4           -87.677692              19.0         Damen Ave & Pierce Ave   \n",
       "...                ...               ...                            ...   \n",
       "50084       -87.628722              27.0              Clark St & Elm St   \n",
       "50085       -87.647172              16.0            Union Ave & Root St   \n",
       "50086       -87.638506              31.0  Halsted St & Blackhawk St (*)   \n",
       "50087       -87.641823              23.0       Kingsbury St & Kinzie St   \n",
       "50088       -87.650001              15.0     Clifton Ave & Lawrence Ave   \n",
       "\n",
       "       latitude_end  longitude_end  dpcapacity_end  temperature  visibility  \\\n",
       "0         41.900960     -87.623777            15.0         73.9        10.0   \n",
       "1         41.899930     -87.634430            19.0         69.1        10.0   \n",
       "2         41.881320     -87.629521            23.0         73.0        10.0   \n",
       "3         41.884576     -87.631890            31.0         72.0        10.0   \n",
       "4         41.909396     -87.677692            19.0         73.0        10.0   \n",
       "...             ...            ...             ...          ...         ...   \n",
       "50084     41.902973     -87.631280            27.0          5.0        10.0   \n",
       "50085     41.819102     -87.643278            11.0          5.0        10.0   \n",
       "50086     41.908537     -87.648627            20.0          5.0        10.0   \n",
       "50087     41.889177     -87.638506            31.0          7.0        10.0   \n",
       "50088     41.968812     -87.657659            15.0         10.9        10.0   \n",
       "\n",
       "       wind_speed  precipitation        events  \n",
       "0            12.7        -9999.0  mostlycloudy  \n",
       "1             6.9        -9999.0  partlycloudy  \n",
       "2            16.1        -9999.0  mostlycloudy  \n",
       "3            16.1        -9999.0  mostlycloudy  \n",
       "4            17.3        -9999.0  partlycloudy  \n",
       "...           ...            ...           ...  \n",
       "50084        16.1        -9999.0  partlycloudy  \n",
       "50085        16.1        -9999.0  partlycloudy  \n",
       "50086        16.1        -9999.0  partlycloudy  \n",
       "50087        11.5        -9999.0  partlycloudy  \n",
       "50088        15.0        -9999.0  partlycloudy  \n",
       "\n",
       "[50089 rows x 19 columns]>"
      ]
     },
     "execution_count": 15,
     "metadata": {},
     "output_type": "execute_result"
    }
   ],
   "source": [
    "bikes.info"
   ]
  },
  {
   "cell_type": "code",
   "execution_count": 16,
   "metadata": {},
   "outputs": [
    {
     "name": "stdout",
     "output_type": "stream",
     "text": [
      "<class 'pandas.core.frame.DataFrame'>\n",
      "RangeIndex: 50089 entries, 0 to 50088\n",
      "Data columns (total 19 columns):\n",
      " #   Column             Non-Null Count  Dtype         \n",
      "---  ------             --------------  -----         \n",
      " 0   trip_id            50089 non-null  int64         \n",
      " 1   usertype           50089 non-null  object        \n",
      " 2   gender             50089 non-null  object        \n",
      " 3   starttime          50089 non-null  datetime64[ns]\n",
      " 4   stoptime           50089 non-null  datetime64[ns]\n",
      " 5   tripduration       50089 non-null  int64         \n",
      " 6   from_station_name  50089 non-null  object        \n",
      " 7   latitude_start     50083 non-null  float64       \n",
      " 8   longitude_start    50083 non-null  float64       \n",
      " 9   dpcapacity_start   50083 non-null  float64       \n",
      " 10  to_station_name    50089 non-null  object        \n",
      " 11  latitude_end       50077 non-null  float64       \n",
      " 12  longitude_end      50077 non-null  float64       \n",
      " 13  dpcapacity_end     50077 non-null  float64       \n",
      " 14  temperature        50089 non-null  float64       \n",
      " 15  visibility         50089 non-null  float64       \n",
      " 16  wind_speed         50089 non-null  float64       \n",
      " 17  precipitation      50089 non-null  float64       \n",
      " 18  events             50089 non-null  object        \n",
      "dtypes: datetime64[ns](2), float64(10), int64(2), object(5)\n",
      "memory usage: 22.4 MB\n"
     ]
    }
   ],
   "source": [
    "# and a handy info method parameter\n",
    "bikes.info(memory_usage = 'deep')\n",
    "# deep will give us true memory usage"
   ]
  },
  {
   "cell_type": "markdown",
   "metadata": {},
   "source": [
    "**Exercises:**\n",
    "\n",
    "1. what is the data type of dtype?\n",
    "2. what type of object is returned from the shape attribute?\n",
    "3. what type of object is returned from the info attribute?"
   ]
  },
  {
   "cell_type": "code",
   "execution_count": 21,
   "metadata": {},
   "outputs": [
    {
     "data": {
      "text/plain": [
       "pandas.core.series.Series"
      ]
     },
     "execution_count": 21,
     "metadata": {},
     "output_type": "execute_result"
    }
   ],
   "source": [
    "type(bikes.dtypes)\n",
    "# it's a series"
   ]
  },
  {
   "cell_type": "code",
   "execution_count": 20,
   "metadata": {},
   "outputs": [
    {
     "data": {
      "text/plain": [
       "tuple"
      ]
     },
     "execution_count": 20,
     "metadata": {},
     "output_type": "execute_result"
    }
   ],
   "source": [
    "type(bikes.shape)\n",
    "# tuple"
   ]
  },
  {
   "cell_type": "code",
   "execution_count": 6,
   "metadata": {},
   "outputs": [
    {
     "ename": "NameError",
     "evalue": "name 'bikes' is not defined",
     "output_type": "error",
     "traceback": [
      "\u001b[1;31m---------------------------------------------------------------------------\u001b[0m",
      "\u001b[1;31mNameError\u001b[0m                                 Traceback (most recent call last)",
      "\u001b[1;32m<ipython-input-6-5f582fdc0eda>\u001b[0m in \u001b[0;36m<module>\u001b[1;34m\u001b[0m\n\u001b[0;32m      1\u001b[0m \u001b[1;31m# info?\u001b[0m\u001b[1;33m\u001b[0m\u001b[1;33m\u001b[0m\u001b[1;33m\u001b[0m\u001b[0m\n\u001b[1;32m----> 2\u001b[1;33m \u001b[0mtype\u001b[0m\u001b[1;33m(\u001b[0m\u001b[0mbikes\u001b[0m\u001b[1;33m.\u001b[0m\u001b[0minfo\u001b[0m\u001b[1;33m)\u001b[0m\u001b[1;33m\u001b[0m\u001b[1;33m\u001b[0m\u001b[0m\n\u001b[0m",
      "\u001b[1;31mNameError\u001b[0m: name 'bikes' is not defined"
     ]
    }
   ],
   "source": [
    "# info?\n",
    "type(bikes.info)"
   ]
  },
  {
   "cell_type": "markdown",
   "metadata": {},
   "source": [
    "Next Section - https://www.udemy.com/course/master-data-analysis-with-python-intro-to-pandas/learn/lecture/13947512#overview"
   ]
  },
  {
   "cell_type": "code",
   "execution_count": 4,
   "metadata": {},
   "outputs": [],
   "source": [
    "# this is from https://www.dataquest.io/blog/python-data-visualization-libraries/\n",
    "# Import the pandas library.\n",
    "import pandas\n",
    "# Read in the airports data.\n",
    "# TODO fix this up\n",
    "# C:/Users/jpkee/anaconda3/Lib/site-packages/vega_datasets/_data/airports.csv\n",
    "airports = pandas.read_csv(\"C:/Users/jpkee/anaconda3/Lib/site-packages/vega_datasets/_data/airports.csv\", header=None, dtype=str)\n",
    "# airports.columns = [\"id\", \"name\", \"city\", \"country\", \"code\", \"icao\", \"latitude\", \"longitude\", \"altitude\", \"offset\", \"dst\", \"timezone\"]\n",
    "# # Read in the airlines data.\n",
    "# airlines = pandas.read_csv(\"airlines.csv\", header=None, dtype=str)\n",
    "# airlines.columns = [\"id\", \"name\", \"alias\", \"iata\", \"icao\", \"callsign\", \"country\", \"active\"]\n",
    "# # Read in the routes data.\n",
    "# routes = pandas.read_csv(\"routes.csv\", header=None, dtype=str)\n",
    "# routes.columns = [\"airline\", \"airline_id\", \"source\", \"source_id\", \"dest\", \"dest_id\", \"codeshare\", \"stops\", \"equipment\"]"
   ]
  },
  {
   "cell_type": "code",
   "execution_count": 5,
   "metadata": {},
   "outputs": [
    {
     "data": {
      "text/html": [
       "<div>\n",
       "<style scoped>\n",
       "    .dataframe tbody tr th:only-of-type {\n",
       "        vertical-align: middle;\n",
       "    }\n",
       "\n",
       "    .dataframe tbody tr th {\n",
       "        vertical-align: top;\n",
       "    }\n",
       "\n",
       "    .dataframe thead th {\n",
       "        text-align: right;\n",
       "    }\n",
       "</style>\n",
       "<table border=\"1\" class=\"dataframe\">\n",
       "  <thead>\n",
       "    <tr style=\"text-align: right;\">\n",
       "      <th></th>\n",
       "      <th>0</th>\n",
       "      <th>1</th>\n",
       "      <th>2</th>\n",
       "      <th>3</th>\n",
       "      <th>4</th>\n",
       "      <th>5</th>\n",
       "      <th>6</th>\n",
       "    </tr>\n",
       "  </thead>\n",
       "  <tbody>\n",
       "    <tr>\n",
       "      <th>0</th>\n",
       "      <td>iata</td>\n",
       "      <td>name</td>\n",
       "      <td>city</td>\n",
       "      <td>state</td>\n",
       "      <td>country</td>\n",
       "      <td>latitude</td>\n",
       "      <td>longitude</td>\n",
       "    </tr>\n",
       "    <tr>\n",
       "      <th>1</th>\n",
       "      <td>00M</td>\n",
       "      <td>Thigpen</td>\n",
       "      <td>Bay Springs</td>\n",
       "      <td>MS</td>\n",
       "      <td>USA</td>\n",
       "      <td>31.95376472</td>\n",
       "      <td>-89.23450472</td>\n",
       "    </tr>\n",
       "    <tr>\n",
       "      <th>2</th>\n",
       "      <td>00R</td>\n",
       "      <td>Livingston Municipal</td>\n",
       "      <td>Livingston</td>\n",
       "      <td>TX</td>\n",
       "      <td>USA</td>\n",
       "      <td>30.68586111</td>\n",
       "      <td>-95.01792778</td>\n",
       "    </tr>\n",
       "    <tr>\n",
       "      <th>3</th>\n",
       "      <td>00V</td>\n",
       "      <td>Meadow Lake</td>\n",
       "      <td>Colorado Springs</td>\n",
       "      <td>CO</td>\n",
       "      <td>USA</td>\n",
       "      <td>38.94574889</td>\n",
       "      <td>-104.5698933</td>\n",
       "    </tr>\n",
       "    <tr>\n",
       "      <th>4</th>\n",
       "      <td>01G</td>\n",
       "      <td>Perry-Warsaw</td>\n",
       "      <td>Perry</td>\n",
       "      <td>NY</td>\n",
       "      <td>USA</td>\n",
       "      <td>42.74134667</td>\n",
       "      <td>-78.05208056</td>\n",
       "    </tr>\n",
       "    <tr>\n",
       "      <th>...</th>\n",
       "      <td>...</td>\n",
       "      <td>...</td>\n",
       "      <td>...</td>\n",
       "      <td>...</td>\n",
       "      <td>...</td>\n",
       "      <td>...</td>\n",
       "      <td>...</td>\n",
       "    </tr>\n",
       "    <tr>\n",
       "      <th>3372</th>\n",
       "      <td>ZEF</td>\n",
       "      <td>Elkin Municipal</td>\n",
       "      <td>Elkin</td>\n",
       "      <td>NC</td>\n",
       "      <td>USA</td>\n",
       "      <td>36.28002361</td>\n",
       "      <td>-80.78606861</td>\n",
       "    </tr>\n",
       "    <tr>\n",
       "      <th>3373</th>\n",
       "      <td>ZER</td>\n",
       "      <td>Schuylkill Cty/Joe Zerbey</td>\n",
       "      <td>Pottsville</td>\n",
       "      <td>PA</td>\n",
       "      <td>USA</td>\n",
       "      <td>40.70644889</td>\n",
       "      <td>-76.37314667</td>\n",
       "    </tr>\n",
       "    <tr>\n",
       "      <th>3374</th>\n",
       "      <td>ZPH</td>\n",
       "      <td>Zephyrhills Municipal</td>\n",
       "      <td>Zephyrhills</td>\n",
       "      <td>FL</td>\n",
       "      <td>USA</td>\n",
       "      <td>28.22806472</td>\n",
       "      <td>-82.15591639</td>\n",
       "    </tr>\n",
       "    <tr>\n",
       "      <th>3375</th>\n",
       "      <td>ZUN</td>\n",
       "      <td>Black Rock</td>\n",
       "      <td>Zuni</td>\n",
       "      <td>NM</td>\n",
       "      <td>USA</td>\n",
       "      <td>35.08322694</td>\n",
       "      <td>-108.7917769</td>\n",
       "    </tr>\n",
       "    <tr>\n",
       "      <th>3376</th>\n",
       "      <td>ZZV</td>\n",
       "      <td>Zanesville Municipal</td>\n",
       "      <td>Zanesville</td>\n",
       "      <td>OH</td>\n",
       "      <td>USA</td>\n",
       "      <td>39.94445833</td>\n",
       "      <td>-81.89210528</td>\n",
       "    </tr>\n",
       "  </tbody>\n",
       "</table>\n",
       "<p>3377 rows × 7 columns</p>\n",
       "</div>"
      ],
      "text/plain": [
       "         0                          1                 2      3        4  \\\n",
       "0     iata                       name              city  state  country   \n",
       "1      00M                    Thigpen       Bay Springs     MS      USA   \n",
       "2      00R       Livingston Municipal        Livingston     TX      USA   \n",
       "3      00V                Meadow Lake  Colorado Springs     CO      USA   \n",
       "4      01G               Perry-Warsaw             Perry     NY      USA   \n",
       "...    ...                        ...               ...    ...      ...   \n",
       "3372   ZEF            Elkin Municipal             Elkin     NC      USA   \n",
       "3373   ZER  Schuylkill Cty/Joe Zerbey        Pottsville     PA      USA   \n",
       "3374   ZPH      Zephyrhills Municipal       Zephyrhills     FL      USA   \n",
       "3375   ZUN                 Black Rock              Zuni     NM      USA   \n",
       "3376   ZZV       Zanesville Municipal        Zanesville     OH      USA   \n",
       "\n",
       "                5             6  \n",
       "0        latitude     longitude  \n",
       "1     31.95376472  -89.23450472  \n",
       "2     30.68586111  -95.01792778  \n",
       "3     38.94574889  -104.5698933  \n",
       "4     42.74134667  -78.05208056  \n",
       "...           ...           ...  \n",
       "3372  36.28002361  -80.78606861  \n",
       "3373  40.70644889  -76.37314667  \n",
       "3374  28.22806472  -82.15591639  \n",
       "3375  35.08322694  -108.7917769  \n",
       "3376  39.94445833  -81.89210528  \n",
       "\n",
       "[3377 rows x 7 columns]"
      ]
     },
     "execution_count": 5,
     "metadata": {},
     "output_type": "execute_result"
    }
   ],
   "source": [
    "airports"
   ]
  }
 ],
 "metadata": {
  "kernelspec": {
   "display_name": "Python 3",
   "language": "python",
   "name": "python3"
  },
  "language_info": {
   "codemirror_mode": {
    "name": "ipython",
    "version": 3
   },
   "file_extension": ".py",
   "mimetype": "text/x-python",
   "name": "python",
   "nbconvert_exporter": "python",
   "pygments_lexer": "ipython3",
   "version": "3.7.6"
  }
 },
 "nbformat": 4,
 "nbformat_minor": 4
}
